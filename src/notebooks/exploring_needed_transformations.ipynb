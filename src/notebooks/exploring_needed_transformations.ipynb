{
 "cells": [
  {
   "cell_type": "code",
   "execution_count": 3,
   "metadata": {},
   "outputs": [],
   "source": [
    "import pandas as pd"
   ]
  },
  {
   "cell_type": "code",
   "execution_count": 4,
   "metadata": {},
   "outputs": [],
   "source": [
    "benefits = pd.read_csv(\"stg/benefits.csv\")\n",
    "entities = pd.read_csv(\"stg/entities.csv\")"
   ]
  },
  {
   "attachments": {},
   "cell_type": "markdown",
   "metadata": {},
   "source": [
    "Vamos a clasificar los subvencionados por tipo (persona, empresa...) y subtipo (SL, SA, Asociación...)"
   ]
  },
  {
   "attachments": {},
   "cell_type": "markdown",
   "metadata": {},
   "source": [
    "# Granted Benefits"
   ]
  },
  {
   "cell_type": "code",
   "execution_count": 5,
   "metadata": {},
   "outputs": [],
   "source": [
    "benefits[\"tipo\"] = ''\n",
    "benefits[\"subtipo\"] = ''\n",
    "benefits.loc[benefits['beneficiary_id'] == '*********', [\"tipo\", 'subtipo']] = ['NO ID'] * 2\n",
    "\n",
    "def company_person_discerner(id: str) -> str:\n",
    "    first_position = id[0]\n",
    "    if first_position.isalpha() and first_position not in ['K', 'L', 'M', 'X', 'Y', 'Z']:\n",
    "            return \"COMPANY\"\n",
    "    else:\n",
    "        return \"PERSON\"\n",
    "\n",
    "benefits.loc[benefits['tipo'] != 'NO ID', 'tipo'] = benefits.query(\"tipo != 'NO ID'\")['beneficiary_id'].apply(company_person_discerner)\n",
    "\n",
    "def get_person_subtype(id_person: str) -> str:\n",
    "    if id_person[0] in ['K', 'L', 'M', 'X', 'Y', 'Z']:\n",
    "        return \"EXTRANJERO\"\n",
    "    else:\n",
    "        return \"CITIZEN\" \n",
    "    \n",
    "benefits.loc[benefits['tipo'] == 'PERSON', 'subtipo'] = benefits.query(\"tipo == 'PERSON'\")['beneficiary_id'].apply(get_person_subtype)\n",
    "\n",
    "def get_company_subtype(id_person: str) -> str:\n",
    "    first_letter = id_person[0]\n",
    "    \n",
    "    company_type_dict = {\n",
    "        'A': 'Sociedades anónimas',\n",
    "        'B': 'Sociedades de responsabilidad limitada',\n",
    "        'C': 'Sociedades colectivas',\n",
    "        'D': 'Sociedades comanditarias',\n",
    "        'E': 'Comunidades de bienes',\n",
    "        'F': 'Sociedades cooperativas',\n",
    "        'G': 'Asociaciones y Fundaciones',\n",
    "        'H': 'Comunidades de propietarios en régimen de propiedad horizontal',\n",
    "        'J': 'Sociedades civiles, con o sin personalidad jurídica',\n",
    "        'N': 'Entidades extranjeras',\n",
    "        'P': 'Corporaciones Locales',\n",
    "        'Q': 'Organismos públicos',\n",
    "        'R': 'Congregaciones e instituciones religiosas',\n",
    "        'S': 'Órganos de la Administración General del Estado y de las comunidades autónomas',\n",
    "        'U': 'Uniones Temporales de Empresas',\n",
    "        'V': 'Otros tipos no definidos en el resto de claves',\n",
    "        'W': 'Establecimientos permanentes de entidades no residentes en España'\n",
    "    }\n",
    "    \n",
    "    return str.upper(company_type_dict[first_letter])\n",
    "\n",
    "benefits.loc[benefits['tipo'] == 'COMPANY', 'subtipo'] = benefits.query(\"tipo == 'COMPANY'\")['beneficiary_id'].apply(get_company_subtype)"
   ]
  },
  {
   "cell_type": "code",
   "execution_count": 6,
   "metadata": {},
   "outputs": [],
   "source": [
    "# benefits.query(\"tipo=='COMPANY'\").groupby('subtipo').subtipo.count().sort_values(ascending=False).plot.bar()"
   ]
  },
  {
   "cell_type": "code",
   "execution_count": 28,
   "metadata": {},
   "outputs": [],
   "source": [
    "def clean_sa(name: str) -> str:\n",
    "    if name.endswith(' SA'):\n",
    "        name = name[:-3]\n",
    "    elif name.endswith(', SA'):\n",
    "        name = name[:-4]\n",
    "    elif name.endswith(', S.A.'):\n",
    "        name = name[:-6]\n",
    "    elif name.endswith(' S.A.'):\n",
    "        name = name[:-5]\n",
    "    elif name.endswith(' S.A'):\n",
    "        name = name[:-4]\n",
    "    elif name.endswith(' S. A.'):\n",
    "        name = name[:-6]\n",
    "    elif name.endswith('. SAL'):  # sociedad anónima laboral \n",
    "        name = name[:5]\n",
    "    name = name.replace(' SOCIEDAD ANONIMA', '')\n",
    "    return name\n",
    "\n",
    "def clean_sl(name: str) -> str:\n",
    "    if name.endswith(', SL'):\n",
    "        name = name[:-4]\n",
    "    elif name.endswith(' SL'):\n",
    "        name = name[:-3]\n",
    "    elif name.endswith(', S.L'):\n",
    "        name = name[:-5]\n",
    "    elif name.endswith(', S.L.'):\n",
    "        name = name[:-6]  \n",
    "    elif name.endswith(' S. L.'):\n",
    "        name = name[:-6]\n",
    "    elif name.endswith(' S.L.'):\n",
    "        name = name[:-5]\n",
    "    elif name.endswith(', SLU'):\n",
    "        name = name[:-5]\n",
    "    elif name.endswith(', S.L.U.'):\n",
    "        name = name[:-8]\n",
    "    elif name.endswith(' S.L.U.'):\n",
    "        name = name[:7]\n",
    "    elif name.endswith(' SLL'):  # sociedad limitada laboral \n",
    "        name = name[:4]\n",
    "    name = name.replace(' SOCIEDAD LIMITADA', '')\n",
    "    return name\n",
    "\n",
    "def clean_sociedad_civil(name: str) -> str:\n",
    "    if name.endswith(', S.C.'):\n",
    "        name = name[:-6]\n",
    "    elif name.endswith(' S.C.'):\n",
    "        name = name[:-5]\n",
    "    elif name.endswith(', SC'):\n",
    "        name = name[:-4]\n",
    "    elif name.endswith(' SC.'):\n",
    "        name = name[:-4]\n",
    "    elif name.endswith(' SC'):\n",
    "        name = name[:-3]\n",
    "    elif name.endswith(', SC - OCM VINO INVER'):\n",
    "        name = name.replace(', SC - OCM VINO INVER', '')\n",
    "    elif name.endswith(' SC - OCM VINO INVER'):\n",
    "        name = name.replace(' SC - OCM VINO INVER', '')\n",
    "    elif name.endswith(' SL - OCM VINO INVER'):\n",
    "        name = name.replace(' SL - OCM VINO INVER', '')\n",
    "    elif name.endswith(' SL -  OCM VINO INVER'):\n",
    "        name = name.replace(' SL -  OCM VINO INVER', '')\n",
    "    elif name.endswith(', SC-OCM VINO PROMO'):\n",
    "        name = name.replace(', SC-OCM VINO PROMO', '')\n",
    "    name = name.replace(' SOCIEDAD CIVIL', '')\n",
    "    return name\n",
    "benefits.loc[benefits['subtipo']=='SOCIEDADES DE RESPONSABILIDAD LIMITADA', 'beneficiary_name'] = benefits.query(\"subtipo=='SOCIEDADES DE RESPONSABILIDAD LIMITADA'\").beneficiary_name.apply(clean_sl)\n",
    "benefits.loc[benefits['subtipo']=='SOCIEDADES ANÓNIMAS', 'beneficiary_name'] = benefits.query(\"subtipo=='SOCIEDADES ANÓNIMAS'\").beneficiary_name.apply(clean_sa)\n",
    "benefits.loc[benefits['subtipo']=='SOCIEDADES CIVILES, CON O SIN PERSONALIDAD JURÍDICA', 'beneficiary_name'] = benefits.query(\"subtipo=='SOCIEDADES CIVILES, CON O SIN PERSONALIDAD JURÍDICA'\").beneficiary_name.apply(clean_sociedad_civil)"
   ]
  },
  {
   "cell_type": "code",
   "execution_count": 30,
   "metadata": {},
   "outputs": [
    {
     "data": {
      "text/html": [
       "<div>\n",
       "<style scoped>\n",
       "    .dataframe tbody tr th:only-of-type {\n",
       "        vertical-align: middle;\n",
       "    }\n",
       "\n",
       "    .dataframe tbody tr th {\n",
       "        vertical-align: top;\n",
       "    }\n",
       "\n",
       "    .dataframe thead th {\n",
       "        text-align: right;\n",
       "    }\n",
       "</style>\n",
       "<table border=\"1\" class=\"dataframe\">\n",
       "  <thead>\n",
       "    <tr style=\"text-align: right;\">\n",
       "      <th></th>\n",
       "      <th>beneficiary_id</th>\n",
       "      <th>beneficiary_name</th>\n",
       "      <th>tipo</th>\n",
       "      <th>subtipo</th>\n",
       "    </tr>\n",
       "  </thead>\n",
       "  <tbody>\n",
       "    <tr>\n",
       "      <th>5310</th>\n",
       "      <td>J01193242</td>\n",
       "      <td>PASCUAL BERGANZO</td>\n",
       "      <td>COMPANY</td>\n",
       "      <td>SOCIEDADES CIVILES, CON O SIN PERSONALIDAD JUR...</td>\n",
       "    </tr>\n",
       "    <tr>\n",
       "      <th>16296</th>\n",
       "      <td>J95657110</td>\n",
       "      <td>FRANCISCO JAVIER MORO PEREZ-OSCAR MAZA GUZMAN</td>\n",
       "      <td>COMPANY</td>\n",
       "      <td>SOCIEDADES CIVILES, CON O SIN PERSONALIDAD JUR...</td>\n",
       "    </tr>\n",
       "    <tr>\n",
       "      <th>16368</th>\n",
       "      <td>J01521194</td>\n",
       "      <td>MASTERCLASS ENGLISH SCHOOL</td>\n",
       "      <td>COMPANY</td>\n",
       "      <td>SOCIEDADES CIVILES, CON O SIN PERSONALIDAD JUR...</td>\n",
       "    </tr>\n",
       "    <tr>\n",
       "      <th>16684</th>\n",
       "      <td>J48833693</td>\n",
       "      <td>JOSE RAMON HERNAIZ GOMEZ- MARIA ASCENSION FERN...</td>\n",
       "      <td>COMPANY</td>\n",
       "      <td>SOCIEDADES CIVILES, CON O SIN PERSONALIDAD JUR...</td>\n",
       "    </tr>\n",
       "    <tr>\n",
       "      <th>25394</th>\n",
       "      <td>J01292119</td>\n",
       "      <td>PESCADOS ANAIAK</td>\n",
       "      <td>COMPANY</td>\n",
       "      <td>SOCIEDADES CIVILES, CON O SIN PERSONALIDAD JUR...</td>\n",
       "    </tr>\n",
       "    <tr>\n",
       "      <th>29655</th>\n",
       "      <td>J95850376</td>\n",
       "      <td>FRANCISCO JAVIER LOPEZ FAILDE - VERONICA ARAND...</td>\n",
       "      <td>COMPANY</td>\n",
       "      <td>SOCIEDADES CIVILES, CON O SIN PERSONALIDAD JUR...</td>\n",
       "    </tr>\n",
       "    <tr>\n",
       "      <th>30809</th>\n",
       "      <td>J95840773</td>\n",
       "      <td>GABINO MADRAZO OROZCO-ANA MARIA DEIROS FOMBELL...</td>\n",
       "      <td>COMPANY</td>\n",
       "      <td>SOCIEDADES CIVILES, CON O SIN PERSONALIDAD JUR...</td>\n",
       "    </tr>\n",
       "    <tr>\n",
       "      <th>31825</th>\n",
       "      <td>J95862090</td>\n",
       "      <td>FRANCISCO JAVIER GUTIERREZ COLINA-VIVIANA RAQU...</td>\n",
       "      <td>COMPANY</td>\n",
       "      <td>SOCIEDADES CIVILES, CON O SIN PERSONALIDAD JUR...</td>\n",
       "    </tr>\n",
       "    <tr>\n",
       "      <th>33559</th>\n",
       "      <td>J01178508</td>\n",
       "      <td>PISCIS</td>\n",
       "      <td>COMPANY</td>\n",
       "      <td>SOCIEDADES CIVILES, CON O SIN PERSONALIDAD JUR...</td>\n",
       "    </tr>\n",
       "    <tr>\n",
       "      <th>34368</th>\n",
       "      <td>J95830915</td>\n",
       "      <td>NERE ASPIAZU BASCARAN-ION RZ. DE EGUINO AZCARA...</td>\n",
       "      <td>COMPANY</td>\n",
       "      <td>SOCIEDADES CIVILES, CON O SIN PERSONALIDAD JUR...</td>\n",
       "    </tr>\n",
       "    <tr>\n",
       "      <th>34529</th>\n",
       "      <td>J95679296</td>\n",
       "      <td>ENRIQUE CIRUELOS ESCUDERO-MARIA ROSA CIRUELOS ...</td>\n",
       "      <td>COMPANY</td>\n",
       "      <td>SOCIEDADES CIVILES, CON O SIN PERSONALIDAD JUR...</td>\n",
       "    </tr>\n",
       "    <tr>\n",
       "      <th>34639</th>\n",
       "      <td>J95822052</td>\n",
       "      <td>DANIEL OÑATE MOLINA-FRANCISCO JAVIER FINEZ RAT...</td>\n",
       "      <td>COMPANY</td>\n",
       "      <td>SOCIEDADES CIVILES, CON O SIN PERSONALIDAD JUR...</td>\n",
       "    </tr>\n",
       "    <tr>\n",
       "      <th>45507</th>\n",
       "      <td>J01459205</td>\n",
       "      <td>CRISCERAL</td>\n",
       "      <td>COMPANY</td>\n",
       "      <td>SOCIEDADES CIVILES, CON O SIN PERSONALIDAD JUR...</td>\n",
       "    </tr>\n",
       "    <tr>\n",
       "      <th>49538</th>\n",
       "      <td>J95147096</td>\n",
       "      <td>FRANCISCO JOSE D ACQUISTO TOÑA-MARIA PILAR GAR...</td>\n",
       "      <td>COMPANY</td>\n",
       "      <td>SOCIEDADES CIVILES, CON O SIN PERSONALIDAD JUR...</td>\n",
       "    </tr>\n",
       "    <tr>\n",
       "      <th>50018</th>\n",
       "      <td>J95289542</td>\n",
       "      <td>DAVID OTERO RUIZ-IKER OTERO VASCO</td>\n",
       "      <td>COMPANY</td>\n",
       "      <td>SOCIEDADES CIVILES, CON O SIN PERSONALIDAD JUR...</td>\n",
       "    </tr>\n",
       "    <tr>\n",
       "      <th>52986</th>\n",
       "      <td>J95690806</td>\n",
       "      <td>XABIER FRESCO PELISSIER-NAIARA APRAIZ ALBERDI</td>\n",
       "      <td>COMPANY</td>\n",
       "      <td>SOCIEDADES CIVILES, CON O SIN PERSONALIDAD JUR...</td>\n",
       "    </tr>\n",
       "    <tr>\n",
       "      <th>56208</th>\n",
       "      <td>J95943148</td>\n",
       "      <td>MARIA TERESA MORO FRESNEDO-FRANCISCO JAVIER VA...</td>\n",
       "      <td>COMPANY</td>\n",
       "      <td>SOCIEDADES CIVILES, CON O SIN PERSONALIDAD JUR...</td>\n",
       "    </tr>\n",
       "    <tr>\n",
       "      <th>57067</th>\n",
       "      <td>J01528652</td>\n",
       "      <td>SCANDAL PELUQUERIA ESTETICA</td>\n",
       "      <td>COMPANY</td>\n",
       "      <td>SOCIEDADES CIVILES, CON O SIN PERSONALIDAD JUR...</td>\n",
       "    </tr>\n",
       "    <tr>\n",
       "      <th>57156</th>\n",
       "      <td>J01194737</td>\n",
       "      <td>FLORISTERIA MUSCARI</td>\n",
       "      <td>COMPANY</td>\n",
       "      <td>SOCIEDADES CIVILES, CON O SIN PERSONALIDAD JUR...</td>\n",
       "    </tr>\n",
       "    <tr>\n",
       "      <th>57794</th>\n",
       "      <td>J48816953</td>\n",
       "      <td>CLOTILDE OMAGOGEASCOA BENGOECHEA Y OTROS</td>\n",
       "      <td>COMPANY</td>\n",
       "      <td>SOCIEDADES CIVILES, CON O SIN PERSONALIDAD JUR...</td>\n",
       "    </tr>\n",
       "  </tbody>\n",
       "</table>\n",
       "</div>"
      ],
      "text/plain": [
       "      beneficiary_id                                   beneficiary_name  \\\n",
       "5310       J01193242                                   PASCUAL BERGANZO   \n",
       "16296      J95657110      FRANCISCO JAVIER MORO PEREZ-OSCAR MAZA GUZMAN   \n",
       "16368      J01521194                         MASTERCLASS ENGLISH SCHOOL   \n",
       "16684      J48833693  JOSE RAMON HERNAIZ GOMEZ- MARIA ASCENSION FERN...   \n",
       "25394      J01292119                                    PESCADOS ANAIAK   \n",
       "29655      J95850376  FRANCISCO JAVIER LOPEZ FAILDE - VERONICA ARAND...   \n",
       "30809      J95840773  GABINO MADRAZO OROZCO-ANA MARIA DEIROS FOMBELL...   \n",
       "31825      J95862090  FRANCISCO JAVIER GUTIERREZ COLINA-VIVIANA RAQU...   \n",
       "33559      J01178508                                             PISCIS   \n",
       "34368      J95830915  NERE ASPIAZU BASCARAN-ION RZ. DE EGUINO AZCARA...   \n",
       "34529      J95679296  ENRIQUE CIRUELOS ESCUDERO-MARIA ROSA CIRUELOS ...   \n",
       "34639      J95822052  DANIEL OÑATE MOLINA-FRANCISCO JAVIER FINEZ RAT...   \n",
       "45507      J01459205                                          CRISCERAL   \n",
       "49538      J95147096  FRANCISCO JOSE D ACQUISTO TOÑA-MARIA PILAR GAR...   \n",
       "50018      J95289542                  DAVID OTERO RUIZ-IKER OTERO VASCO   \n",
       "52986      J95690806      XABIER FRESCO PELISSIER-NAIARA APRAIZ ALBERDI   \n",
       "56208      J95943148  MARIA TERESA MORO FRESNEDO-FRANCISCO JAVIER VA...   \n",
       "57067      J01528652                        SCANDAL PELUQUERIA ESTETICA   \n",
       "57156      J01194737                                FLORISTERIA MUSCARI   \n",
       "57794      J48816953           CLOTILDE OMAGOGEASCOA BENGOECHEA Y OTROS   \n",
       "\n",
       "          tipo                                            subtipo  \n",
       "5310   COMPANY  SOCIEDADES CIVILES, CON O SIN PERSONALIDAD JUR...  \n",
       "16296  COMPANY  SOCIEDADES CIVILES, CON O SIN PERSONALIDAD JUR...  \n",
       "16368  COMPANY  SOCIEDADES CIVILES, CON O SIN PERSONALIDAD JUR...  \n",
       "16684  COMPANY  SOCIEDADES CIVILES, CON O SIN PERSONALIDAD JUR...  \n",
       "25394  COMPANY  SOCIEDADES CIVILES, CON O SIN PERSONALIDAD JUR...  \n",
       "29655  COMPANY  SOCIEDADES CIVILES, CON O SIN PERSONALIDAD JUR...  \n",
       "30809  COMPANY  SOCIEDADES CIVILES, CON O SIN PERSONALIDAD JUR...  \n",
       "31825  COMPANY  SOCIEDADES CIVILES, CON O SIN PERSONALIDAD JUR...  \n",
       "33559  COMPANY  SOCIEDADES CIVILES, CON O SIN PERSONALIDAD JUR...  \n",
       "34368  COMPANY  SOCIEDADES CIVILES, CON O SIN PERSONALIDAD JUR...  \n",
       "34529  COMPANY  SOCIEDADES CIVILES, CON O SIN PERSONALIDAD JUR...  \n",
       "34639  COMPANY  SOCIEDADES CIVILES, CON O SIN PERSONALIDAD JUR...  \n",
       "45507  COMPANY  SOCIEDADES CIVILES, CON O SIN PERSONALIDAD JUR...  \n",
       "49538  COMPANY  SOCIEDADES CIVILES, CON O SIN PERSONALIDAD JUR...  \n",
       "50018  COMPANY  SOCIEDADES CIVILES, CON O SIN PERSONALIDAD JUR...  \n",
       "52986  COMPANY  SOCIEDADES CIVILES, CON O SIN PERSONALIDAD JUR...  \n",
       "56208  COMPANY  SOCIEDADES CIVILES, CON O SIN PERSONALIDAD JUR...  \n",
       "57067  COMPANY  SOCIEDADES CIVILES, CON O SIN PERSONALIDAD JUR...  \n",
       "57156  COMPANY  SOCIEDADES CIVILES, CON O SIN PERSONALIDAD JUR...  \n",
       "57794  COMPANY  SOCIEDADES CIVILES, CON O SIN PERSONALIDAD JUR...  "
      ]
     },
     "execution_count": 30,
     "metadata": {},
     "output_type": "execute_result"
    }
   ],
   "source": [
    "# Tratar las OCM VINO INVER (https://www.euskadi.eus/ayuda_subvencion/2021/ocm-inversion-2022/web01-tramite/es/)\n",
    "# Puede que interese guardar lo de la derecha del guión (investigar casos como el de OCM VINO INVER)\n",
    "benefits.query(\"subtipo=='SOCIEDADES CIVILES, CON O SIN PERSONALIDAD JURÍDICA' and beneficiary_name.str.contains('SC')\").head(20)"
   ]
  },
  {
   "attachments": {},
   "cell_type": "markdown",
   "metadata": {},
   "source": [
    "# Directorio"
   ]
  },
  {
   "cell_type": "code",
   "execution_count": null,
   "metadata": {},
   "outputs": [
    {
     "name": "stderr",
     "output_type": "stream",
     "text": [
      "/home/mol/Escritorio/Proyectos/AnalisisSubvenciones/venv/lib/python3.8/site-packages/thefuzz/fuzz.py:11: UserWarning: Using slow pure-python SequenceMatcher. Install python-Levenshtein to remove this warning\n",
      "  warnings.warn('Using slow pure-python SequenceMatcher. Install python-Levenshtein to remove this warning')\n"
     ]
    }
   ],
   "source": [
    "from thefuzz import fuzz"
   ]
  },
  {
   "cell_type": "code",
   "execution_count": null,
   "metadata": {},
   "outputs": [],
   "source": [
    "np_entities = entities.query(\"type=='ENTITY'\")"
   ]
  },
  {
   "cell_type": "code",
   "execution_count": null,
   "metadata": {},
   "outputs": [],
   "source": [
    "entities[['type', 'subtype']].value_counts()"
   ]
  },
  {
   "cell_type": "code",
   "execution_count": null,
   "metadata": {},
   "outputs": [],
   "source": [
    "# TODO: Limpiar los \"sl\", \", sl\", \", s.l.\", \"sll\" y ese tipo de cosas al final de los nombres.\n",
    "# Quitar donde haya más de un espacio\n",
    "# Se tienen que eliminar palabras como comunicación, comunicaciones y ese estilo para evitar los mapeos mal hechos"
   ]
  },
  {
   "cell_type": "code",
   "execution_count": 52,
   "metadata": {},
   "outputs": [],
   "source": [
    "def normalize_name(x: str) -> str:\n",
    "    tilde_dict = {\n",
    "        'á': 'a',\n",
    "        'é': 'e',\n",
    "        'í': 'i',\n",
    "        'ó': 'o',\n",
    "        'u': 'u'\n",
    "    }\n",
    "    for key in tilde_dict:\n",
    "        x = x.lower().replace(key, tilde_dict[key])\n",
    "    return x\n",
    "\n",
    "entity_names = np_entities.query(\"subtype=='COMPANY'\").name.apply(normalize_name).unique().tolist()\n",
    "benefited_names = benefits.query(\"tipo=='COMPANY'\").beneficiary_name.apply(normalize_name).unique().tolist()\n"
   ]
  },
  {
   "cell_type": "code",
   "execution_count": 53,
   "metadata": {},
   "outputs": [
    {
     "data": {
      "text/plain": [
       "type       subtype         \n",
       "PERSON     GENERAL             2960\n",
       "           ACCOUNTABLE          697\n",
       "ENTITY     PUBLIC_SECTOR        695\n",
       "           COMPANY              521\n",
       "EQUIPMENT  GENERAL              289\n",
       "ENTITY     GENERAL              220\n",
       "           FOREIGN_AFF          204\n",
       "           ASSOCIATION          130\n",
       "           PROF_ASSOCIATION     104\n",
       "           FOUNDATION            24\n",
       "           LEGISLATIVE           22\n",
       "           RELIGIOUS              9\n",
       "           JUDICIAL               8\n",
       "           POLITICAL_PARTY        5\n",
       "dtype: int64"
      ]
     },
     "execution_count": 53,
     "metadata": {},
     "output_type": "execute_result"
    }
   ],
   "source": [
    "entities[['type', 'subtype']].value_counts()"
   ]
  },
  {
   "cell_type": "code",
   "execution_count": 56,
   "metadata": {},
   "outputs": [
    {
     "name": "stderr",
     "output_type": "stream",
     "text": [
      " 36%|███▋      | 189/521 [00:11<00:22, 14.49it/s]"
     ]
    },
    {
     "name": "stdout",
     "output_type": "stream",
     "text": [
      "mediasal 2000, s.a. < --- > instalmyr 2000, s.l. < --- > 72\n",
      "mediasal 2000, s.a. < --- > dinitel 2000 s.a. < --- > 72\n",
      "mediasal 2000, s.a. < --- > rodoia 2000, s.l. < --- > 72\n",
      "mediasal 2000, s.a. < --- > arbeis 2000, s.l. < --- > 72\n",
      "mediasal 2000, s.a. < --- > movitel 2000, s.a.l. < --- > 72\n",
      "mediasal 2000, s.a. < --- > cemevisa 2000 sa < --- > 74\n",
      "mediasal 2000, s.a. < --- > peninsula 2000, s.a. < --- > 72\n"
     ]
    },
    {
     "name": "stderr",
     "output_type": "stream",
     "text": [
      " 75%|███████▌  | 392/521 [00:13<00:03, 33.64it/s]"
     ]
    },
    {
     "name": "stdout",
     "output_type": "stream",
     "text": [
      "20 comunicacion < --- > 20 comunicacion, s.l. < --- > 83\n"
     ]
    },
    {
     "name": "stderr",
     "output_type": "stream",
     "text": [
      "100%|██████████| 521/521 [00:16<00:00, 32.46it/s]\n"
     ]
    }
   ],
   "source": [
    "from tqdm import tqdm\n",
    "\n",
    "\n",
    "i = 0\n",
    "for entity in tqdm(entity_names):\n",
    "    i += 1\n",
    "    if '20' not in entity:\n",
    "        continue\n",
    "    if i % 10 == 0:\n",
    "        print(i, '/', len(entity_names))\n",
    "    for ben_name  in benefited_names:\n",
    "        similarity = fuzz.ratio(entity, ben_name)\n",
    "        if similarity > 70:\n",
    "            print(entity, '< --- >', ben_name, '< --- >', similarity)\n"
   ]
  },
  {
   "cell_type": "code",
   "execution_count": 39,
   "metadata": {},
   "outputs": [
    {
     "data": {
      "text/plain": [
       "14"
      ]
     },
     "execution_count": 39,
     "metadata": {},
     "output_type": "execute_result"
    }
   ],
   "source": [
    "fuzz.ratio('colegio oficial de ingenieros de minas y energia del pais vasco, navarra, la rioja y soria', 'ceesa s.a.')"
   ]
  },
  {
   "cell_type": "code",
   "execution_count": null,
   "metadata": {},
   "outputs": [],
   "source": []
  }
 ],
 "metadata": {
  "kernelspec": {
   "display_name": "venv",
   "language": "python",
   "name": "python3"
  },
  "language_info": {
   "codemirror_mode": {
    "name": "ipython",
    "version": 3
   },
   "file_extension": ".py",
   "mimetype": "text/x-python",
   "name": "python",
   "nbconvert_exporter": "python",
   "pygments_lexer": "ipython3",
   "version": "3.8.10"
  },
  "orig_nbformat": 4
 },
 "nbformat": 4,
 "nbformat_minor": 2
}
